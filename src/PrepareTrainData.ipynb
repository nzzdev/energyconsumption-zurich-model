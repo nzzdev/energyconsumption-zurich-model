{
 "cells": [
  {
   "cell_type": "markdown",
   "metadata": {},
   "source": [
    "# Prepare Train Data"
   ]
  },
  {
   "cell_type": "code",
   "execution_count": 2,
   "metadata": {},
   "outputs": [],
   "source": [
    "from datetime import datetime, timezone, date\n",
    "from datetime import timedelta\n",
    "from pathlib import Path\n",
    "import pandas as pd\n",
    "import pyarrow as pa"
   ]
  },
  {
   "cell_type": "code",
   "execution_count": 3,
   "metadata": {},
   "outputs": [],
   "source": [
    "CONSUMPTION_DATA_PATH = Path(\"../data/consumption\")\n",
    "CONSUMPTION_NE5_FILE = CONSUMPTION_DATA_PATH / \"NE5_Export.csv\"\n",
    "CONSUMPTION_NE7_FILE = CONSUMPTION_DATA_PATH / \"NE7_Export.csv\"\n",
    "TRAIN_DATA_PATH = Path('../data/consumption/final_train.parquet')\n",
    "DATA_PATH_2022 = Path('../data/consumption/2022.parquet')\n",
    "\n",
    "METEO_PATH = Path(\"../data/meteoswiss/reh_nzz.csv\")\n",
    "METEO_STATION = \"REH\"\n",
    "METEO_TEMP_PARAMETER = \"tre200h0\"\n",
    "\n",
    "TIME_FORMAT = \"dd.MM.yyyy\"\n",
    "WINDOW_DAYS = 1\n",
    "START_DATE = date(2010, 1, 1)\n",
    "END_DATE = date(2022, 1, 1)"
   ]
  },
  {
   "cell_type": "code",
   "execution_count": 4,
   "metadata": {},
   "outputs": [
    {
     "data": {
      "text/html": [
       "<div>\n",
       "<style scoped>\n",
       "    .dataframe tbody tr th:only-of-type {\n",
       "        vertical-align: middle;\n",
       "    }\n",
       "\n",
       "    .dataframe tbody tr th {\n",
       "        vertical-align: top;\n",
       "    }\n",
       "\n",
       "    .dataframe thead th {\n",
       "        text-align: right;\n",
       "    }\n",
       "</style>\n",
       "<table border=\"1\" class=\"dataframe\">\n",
       "  <thead>\n",
       "    <tr style=\"text-align: right;\">\n",
       "      <th></th>\n",
       "      <th>NE5Consumption</th>\n",
       "      <th>NE7Consumption</th>\n",
       "    </tr>\n",
       "    <tr>\n",
       "      <th>Date</th>\n",
       "      <th></th>\n",
       "      <th></th>\n",
       "    </tr>\n",
       "  </thead>\n",
       "  <tbody>\n",
       "    <tr>\n",
       "      <th>2022-10-29</th>\n",
       "      <td>2.072831e+06</td>\n",
       "      <td>4.298467e+06</td>\n",
       "    </tr>\n",
       "    <tr>\n",
       "      <th>2022-10-30</th>\n",
       "      <td>1.995849e+06</td>\n",
       "      <td>4.206186e+06</td>\n",
       "    </tr>\n",
       "    <tr>\n",
       "      <th>2022-10-31</th>\n",
       "      <td>2.466076e+06</td>\n",
       "      <td>4.864538e+06</td>\n",
       "    </tr>\n",
       "    <tr>\n",
       "      <th>2022-11-01</th>\n",
       "      <td>2.491564e+06</td>\n",
       "      <td>5.000871e+06</td>\n",
       "    </tr>\n",
       "    <tr>\n",
       "      <th>2022-11-02</th>\n",
       "      <td>2.149638e+04</td>\n",
       "      <td>3.566598e+04</td>\n",
       "    </tr>\n",
       "  </tbody>\n",
       "</table>\n",
       "</div>"
      ],
      "text/plain": [
       "            NE5Consumption  NE7Consumption\n",
       "Date                                      \n",
       "2022-10-29    2.072831e+06    4.298467e+06\n",
       "2022-10-30    1.995849e+06    4.206186e+06\n",
       "2022-10-31    2.466076e+06    4.864538e+06\n",
       "2022-11-01    2.491564e+06    5.000871e+06\n",
       "2022-11-02    2.149638e+04    3.566598e+04"
      ]
     },
     "execution_count": 4,
     "metadata": {},
     "output_type": "execute_result"
    }
   ],
   "source": [
    "#ne5File = spark.read.csv(CONSUMPTION_NE5_FILE, header=True, inferSchema=True, sep=\";\")\n",
    "#ne7File = spark.read.csv(CONSUMPTION_NE7_FILE, header=True, inferSchema=True, sep=\";\")\n",
    "\n",
    "# consumption = (ne5File.alias(\"ne5\")\n",
    "#                       .join(ne7File.alias(\"ne7\"), \"Date\")\n",
    "#                       .withColumn(\"NE5Consumption\", f.expr(\"ne5.Value\"))\n",
    "#                       .withColumn(\"NE7Consumption\", f.expr(\"ne7.Value\"))\n",
    "#                       .withColumn(\"Date\", f.to_date(f.col(\"Date\"), TIME_FORMAT))\n",
    "#                       .filter((f.col(\"Date\") >= START_DATE) & (f.col(\"Date\") < END_DATE))\n",
    "#                       .select(\"Date\", \"NE5Consumption\", \"NE7Consumption\")\n",
    "#               )\n",
    "\n",
    "consumption = pd.read_csv('https://data.stadt-zuerich.ch/dataset/ewz_stromabgabe_netzebenen_stadt_zuerich/download/ewz_stromabgabe_netzebenen_stadt_zuerich.csv')\n",
    "consumption['Date'] = pd.to_datetime(consumption['Timestamp'], errors='raise', utc=True)\n",
    "consumption['Date'] = consumption['Date'].dt.tz_convert('Europe/Berlin')\n",
    "consumption.rename(columns={'Value_NE5': 'NE5Consumption', 'Value_NE7': 'NE7Consumption'}, inplace=True)\n",
    "consumption = consumption.groupby(consumption.Date.dt.date).sum(numeric_only=True)\n",
    "\n",
    "consumption.tail()"
   ]
  },
  {
   "cell_type": "markdown",
   "metadata": {},
   "source": [
    "### Station REH"
   ]
  },
  {
   "cell_type": "code",
   "execution_count": 5,
   "metadata": {},
   "outputs": [
    {
     "data": {
      "text/html": [
       "<div>\n",
       "<style scoped>\n",
       "    .dataframe tbody tr th:only-of-type {\n",
       "        vertical-align: middle;\n",
       "    }\n",
       "\n",
       "    .dataframe tbody tr th {\n",
       "        vertical-align: top;\n",
       "    }\n",
       "\n",
       "    .dataframe thead th {\n",
       "        text-align: right;\n",
       "    }\n",
       "</style>\n",
       "<table border=\"1\" class=\"dataframe\">\n",
       "  <thead>\n",
       "    <tr style=\"text-align: right;\">\n",
       "      <th></th>\n",
       "      <th>Temperature</th>\n",
       "    </tr>\n",
       "    <tr>\n",
       "      <th>Date</th>\n",
       "      <th></th>\n",
       "    </tr>\n",
       "  </thead>\n",
       "  <tbody>\n",
       "    <tr>\n",
       "      <th>2022-10-27</th>\n",
       "      <td>12.500000</td>\n",
       "    </tr>\n",
       "    <tr>\n",
       "      <th>2022-10-28</th>\n",
       "      <td>12.583333</td>\n",
       "    </tr>\n",
       "    <tr>\n",
       "      <th>2022-10-29</th>\n",
       "      <td>13.066667</td>\n",
       "    </tr>\n",
       "    <tr>\n",
       "      <th>2022-10-30</th>\n",
       "      <td>11.270833</td>\n",
       "    </tr>\n",
       "    <tr>\n",
       "      <th>2022-10-31</th>\n",
       "      <td>10.400000</td>\n",
       "    </tr>\n",
       "  </tbody>\n",
       "</table>\n",
       "</div>"
      ],
      "text/plain": [
       "            Temperature\n",
       "Date                   \n",
       "2022-10-27    12.500000\n",
       "2022-10-28    12.583333\n",
       "2022-10-29    13.066667\n",
       "2022-10-30    11.270833\n",
       "2022-10-31    10.400000"
      ]
     },
     "execution_count": 5,
     "metadata": {},
     "output_type": "execute_result"
    }
   ],
   "source": [
    "\"\"\"\n",
    "meteoData = (spark.read.format(\"delta\")\n",
    "                         .load(\"/MeteoSwiss/Measurement/Delta\")\n",
    "                         .filter((f.col(\"Station\") == METEO_STATION) & (f.col(\"Parameter\") == METEO_TEMP_PARAMETER))\n",
    "                         .withColumn(\"Date\", f.to_date(f.col(\"TimestampUtc\")))\n",
    "                         .groupBy(\"Date\")\n",
    "                         .agg(f.avg(f.col(\"Value\")).alias(\"Temperature\"))\n",
    "            )\n",
    "\"\"\"\n",
    "\n",
    "meteoData = pd.read_csv(METEO_PATH, encoding='iso-8859-1', sep=';')\n",
    "meteoData = meteoData[meteoData.abbr == METEO_STATION]\n",
    "meteoData['Date'] = pd.to_datetime(meteoData['time'], format='%Y%m%d%H%M', utc=True)\n",
    "\n",
    "# Convert Timezone!\n",
    "#meteoData['Date'] = meteoData['Date'].dt.tz_convert('Europe/Berlin')\n",
    "\n",
    "meteoData = meteoData.groupby(meteoData.Date.dt.date).agg(Temperature = (METEO_TEMP_PARAMETER, 'mean'))\n",
    "\n",
    "meteoData.tail()"
   ]
  },
  {
   "cell_type": "markdown",
   "metadata": {},
   "source": [
    "### Station SMA"
   ]
  },
  {
   "cell_type": "code",
   "execution_count": 6,
   "metadata": {},
   "outputs": [
    {
     "data": {
      "text/plain": [
       "\"\\nmeteoData = pd.concat([\\n    pd.read_csv('https://data.geo.admin.ch/ch.meteoschweiz.klima/nbcn-tageswerte/nbcn-daily_SMA_previous.csv', encoding='utf-8', sep=';'),\\n    pd.read_csv('https://data.geo.admin.ch/ch.meteoschweiz.klima/nbcn-tageswerte/nbcn-daily_SMA_current.csv', encoding='utf-8', sep=';')\\n])\\nmeteoData['Date'] = pd.to_datetime(meteoData['date'], format='%Y%m%d')\\nmeteoData['Date'] = meteoData['Date'].dt.date\\nmeteoData = meteoData[meteoData.Date >= date(2009, 1, 1)]\\nmeteoData.rename(columns={'tre200d0': 'Temperature'}, inplace=True)\\nmeteoData = meteoData[['Date', 'Temperature']]\\nmeteoData = meteoData.set_index('Date')\\n\\nmeteoData.head()\\n\""
      ]
     },
     "execution_count": 6,
     "metadata": {},
     "output_type": "execute_result"
    }
   ],
   "source": [
    "\"\"\"\n",
    "meteoData = pd.concat([\n",
    "    pd.read_csv('https://data.geo.admin.ch/ch.meteoschweiz.klima/nbcn-tageswerte/nbcn-daily_SMA_previous.csv', encoding='utf-8', sep=';'),\n",
    "    pd.read_csv('https://data.geo.admin.ch/ch.meteoschweiz.klima/nbcn-tageswerte/nbcn-daily_SMA_current.csv', encoding='utf-8', sep=';')\n",
    "])\n",
    "meteoData['Date'] = pd.to_datetime(meteoData['date'], format='%Y%m%d')\n",
    "meteoData['Date'] = meteoData['Date'].dt.date\n",
    "meteoData = meteoData[meteoData.Date >= date(2009, 1, 1)]\n",
    "meteoData.rename(columns={'tre200d0': 'Temperature'}, inplace=True)\n",
    "meteoData = meteoData[['Date', 'Temperature']]\n",
    "meteoData = meteoData.set_index('Date')\n",
    "\n",
    "meteoData.head()\n",
    "\"\"\""
   ]
  },
  {
   "cell_type": "markdown",
   "metadata": {},
   "source": [
    "## Export"
   ]
  },
  {
   "cell_type": "code",
   "execution_count": 7,
   "metadata": {},
   "outputs": [],
   "source": [
    "data = consumption.join(meteoData, \"Date\").reset_index(drop=False)"
   ]
  },
  {
   "cell_type": "code",
   "execution_count": 8,
   "metadata": {},
   "outputs": [],
   "source": [
    "# data.write.parquet(\"/ConsumptionModel/Data/final_train.parquet\")\n",
    "data[(data.Date >= START_DATE) & (data.Date < END_DATE)].to_parquet(TRAIN_DATA_PATH, engine='pyarrow')\n",
    "\n",
    "# 2022\n",
    "data[(data.Date >= date(2021, 12, 26)) & (data.Date < date(2022, 10, 31))].to_parquet(DATA_PATH_2022, engine='pyarrow')\n"
   ]
  },
  {
   "cell_type": "code",
   "execution_count": null,
   "metadata": {},
   "outputs": [],
   "source": []
  }
 ],
 "metadata": {
  "kernelspec": {
   "display_name": "env",
   "language": "python",
   "name": "python3"
  },
  "language_info": {
   "codemirror_mode": {
    "name": "ipython",
    "version": 3
   },
   "file_extension": ".py",
   "mimetype": "text/x-python",
   "name": "python",
   "nbconvert_exporter": "python",
   "pygments_lexer": "ipython3",
   "version": "3.8.15"
  },
  "orig_nbformat": 4,
  "vscode": {
   "interpreter": {
    "hash": "a78666ffa58b7f1ff5178c9bd3a68cf56dd55e27c6383ab5473ef63feffae26e"
   }
  }
 },
 "nbformat": 4,
 "nbformat_minor": 2
}

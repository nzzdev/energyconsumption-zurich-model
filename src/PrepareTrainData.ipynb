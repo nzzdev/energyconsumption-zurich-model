{
 "cells": [
  {
   "cell_type": "markdown",
   "metadata": {},
   "source": [
    "# Prepare Train Data"
   ]
  },
  {
   "cell_type": "code",
   "execution_count": 1,
   "metadata": {},
   "outputs": [],
   "source": [
    "from datetime import datetime, timezone\n",
    "from datetime import timedelta\n",
    "from pathlib import Path\n",
    "import pandas as pd"
   ]
  },
  {
   "cell_type": "code",
   "execution_count": 23,
   "metadata": {},
   "outputs": [],
   "source": [
    "from pytz import utc\n",
    "\n",
    "\n",
    "CONSUMPTION_DATA_PATH = Path(\"../data/\")\n",
    "CONSUMPTION_NE5_FILE = CONSUMPTION_DATA_PATH / \"NE5_Export.csv\"\n",
    "CONSUMPTION_NE7_FILE = CONSUMPTION_DATA_PATH / \"NE7_Export.csv\"\n",
    "\n",
    "METEO_PATH = Path(\"/meteoswiss/\")\n",
    "METEO_STATION = \"REH\"\n",
    "METEO_TEMP_PARAMETER = \"tre200h0\"\n",
    "\n",
    "TIME_FORMAT = \"dd.MM.yyyy\"\n",
    "WINDOW_DAYS = 1\n",
    "START_DATE = datetime(2010, 1, 1, tzinfo=timezone.utc)\n",
    "END_DATE = datetime(2022, 1, 1, tzinfo=timezone.utc)"
   ]
  },
  {
   "cell_type": "code",
   "execution_count": 26,
   "metadata": {},
   "outputs": [],
   "source": [
    "#ne5File = spark.read.csv(CONSUMPTION_NE5_FILE, header=True, inferSchema=True, sep=\";\")\n",
    "#ne7File = spark.read.csv(CONSUMPTION_NE7_FILE, header=True, inferSchema=True, sep=\";\")\n",
    "\n",
    "# consumption = (ne5File.alias(\"ne5\")\n",
    "#                       .join(ne7File.alias(\"ne7\"), \"Date\")\n",
    "#                       .withColumn(\"NE5Consumption\", f.expr(\"ne5.Value\"))\n",
    "#                       .withColumn(\"NE7Consumption\", f.expr(\"ne7.Value\"))\n",
    "#                       .withColumn(\"Date\", f.to_date(f.col(\"Date\"), TIME_FORMAT))\n",
    "#                       .filter((f.col(\"Date\") >= START_DATE) & (f.col(\"Date\") < END_DATE))\n",
    "#                       .select(\"Date\", \"NE5Consumption\", \"NE7Consumption\")\n",
    "#               )\n",
    "\n",
    "consumption = pd.read_csv('https://data.stadt-zuerich.ch/dataset/ewz_stromabgabe_netzebenen_stadt_zuerich/download/ewz_stromabgabe_netzebenen_stadt_zuerich.csv')\n",
    "consumption['Timestamp'] = pd.to_datetime(consumption['Timestamp'], errors='raise', utc=True)\n",
    "consumption = consumption[(consumption.Timestamp >= START_DATE) & (consumption.Timestamp < END_DATE)]\n"
   ]
  },
  {
   "cell_type": "code",
   "execution_count": 25,
   "metadata": {},
   "outputs": [],
   "source": [
    "\"\"\"\n",
    "meteoData = (spark.read.format(\"delta\")\n",
    "                         .load(\"/MeteoSwiss/Measurement/Delta\")\n",
    "                         .filter((f.col(\"Station\") == METEO_STATION) & (f.col(\"Parameter\") == METEO_TEMP_PARAMETER))\n",
    "                         .withColumn(\"Date\", f.to_date(f.col(\"TimestampUtc\")))\n",
    "                         .groupBy(\"Date\")\n",
    "                         .agg(f.avg(f.col(\"Value\")).alias(\"Temperature\"))\n",
    "            )\n",
    "\"\"\"\n",
    "# ToDo"
   ]
  },
  {
   "cell_type": "code",
   "execution_count": null,
   "metadata": {},
   "outputs": [],
   "source": [
    "data = consumption.join(meteoData, \"Date\")"
   ]
  },
  {
   "cell_type": "code",
   "execution_count": null,
   "metadata": {},
   "outputs": [],
   "source": [
    "data.write.parquet(\"/ConsumptionModel/Data/final_train.parquet\")"
   ]
  }
 ],
 "metadata": {
  "kernelspec": {
   "display_name": "Python 3.9.13 ('env': venv)",
   "language": "python",
   "name": "python3"
  },
  "language_info": {
   "codemirror_mode": {
    "name": "ipython",
    "version": 3
   },
   "file_extension": ".py",
   "mimetype": "text/x-python",
   "name": "python",
   "nbconvert_exporter": "python",
   "pygments_lexer": "ipython3",
   "version": "3.9.5"
  },
  "orig_nbformat": 4,
  "vscode": {
   "interpreter": {
    "hash": "68c884652952f7983733a5c5d33718639627b23ce073ad2f3e653c062f4e90d0"
   }
  }
 },
 "nbformat": 4,
 "nbformat_minor": 2
}

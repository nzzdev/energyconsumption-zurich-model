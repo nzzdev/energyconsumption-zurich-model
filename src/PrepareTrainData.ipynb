{
 "cells": [
  {
   "cell_type": "markdown",
   "metadata": {},
   "source": [
    "# Prepare Train Data"
   ]
  },
  {
   "cell_type": "code",
   "execution_count": 1,
   "metadata": {},
   "outputs": [],
   "source": [
    "from datetime import datetime, timezone\n",
    "from datetime import timedelta\n",
    "from pathlib import Path\n",
    "import pandas as pd\n",
    "import pyarrow as pa"
   ]
  },
  {
   "cell_type": "code",
   "execution_count": 2,
   "metadata": {},
   "outputs": [],
   "source": [
    "CONSUMPTION_DATA_PATH = Path(\"../data/consumption\")\n",
    "CONSUMPTION_NE5_FILE = CONSUMPTION_DATA_PATH / \"NE5_Export.csv\"\n",
    "CONSUMPTION_NE7_FILE = CONSUMPTION_DATA_PATH / \"NE7_Export.csv\"\n",
    "TRAIN_DATA_PATH = Path('../data/consumption/final_train.parquet')\n",
    "\n",
    "METEO_PATH = Path(\"../data/meteoswiss/reh_nzz.csv\")\n",
    "METEO_STATION = \"REH\"\n",
    "METEO_TEMP_PARAMETER = \"tre200h0\"\n",
    "\n",
    "TIME_FORMAT = \"dd.MM.yyyy\"\n",
    "WINDOW_DAYS = 1\n",
    "START_DATE = datetime(2010, 1, 1, tzinfo=timezone.utc)\n",
    "END_DATE = datetime(2022, 1, 1, tzinfo=timezone.utc)"
   ]
  },
  {
   "cell_type": "code",
   "execution_count": 3,
   "metadata": {},
   "outputs": [],
   "source": [
    "#ne5File = spark.read.csv(CONSUMPTION_NE5_FILE, header=True, inferSchema=True, sep=\";\")\n",
    "#ne7File = spark.read.csv(CONSUMPTION_NE7_FILE, header=True, inferSchema=True, sep=\";\")\n",
    "\n",
    "# consumption = (ne5File.alias(\"ne5\")\n",
    "#                       .join(ne7File.alias(\"ne7\"), \"Date\")\n",
    "#                       .withColumn(\"NE5Consumption\", f.expr(\"ne5.Value\"))\n",
    "#                       .withColumn(\"NE7Consumption\", f.expr(\"ne7.Value\"))\n",
    "#                       .withColumn(\"Date\", f.to_date(f.col(\"Date\"), TIME_FORMAT))\n",
    "#                       .filter((f.col(\"Date\") >= START_DATE) & (f.col(\"Date\") < END_DATE))\n",
    "#                       .select(\"Date\", \"NE5Consumption\", \"NE7Consumption\")\n",
    "#               )\n",
    "\n",
    "consumption = pd.read_csv('https://data.stadt-zuerich.ch/dataset/ewz_stromabgabe_netzebenen_stadt_zuerich/download/ewz_stromabgabe_netzebenen_stadt_zuerich.csv')\n",
    "consumption['Date'] = pd.to_datetime(consumption['Timestamp'], errors='raise', utc=True)\n",
    "consumption = consumption[(consumption.Date >= START_DATE) & (consumption.Date < END_DATE)]\n",
    "consumption.rename(columns={'Value_NE5': 'NE5Consumption', 'Value_NE7': 'NE7Consumption'}, inplace=True)\n",
    "consumption = consumption.groupby(consumption.Date.dt.date).sum(numeric_only=True)"
   ]
  },
  {
   "cell_type": "code",
   "execution_count": 4,
   "metadata": {},
   "outputs": [],
   "source": [
    "\"\"\"\n",
    "meteoData = (spark.read.format(\"delta\")\n",
    "                         .load(\"/MeteoSwiss/Measurement/Delta\")\n",
    "                         .filter((f.col(\"Station\") == METEO_STATION) & (f.col(\"Parameter\") == METEO_TEMP_PARAMETER))\n",
    "                         .withColumn(\"Date\", f.to_date(f.col(\"TimestampUtc\")))\n",
    "                         .groupBy(\"Date\")\n",
    "                         .agg(f.avg(f.col(\"Value\")).alias(\"Temperature\"))\n",
    "            )\n",
    "\"\"\"\n",
    "\n",
    "meteoData = pd.read_csv(METEO_PATH, encoding='iso-8859-1', sep=';')\n",
    "meteoData = meteoData[meteoData.abbr == METEO_STATION]\n",
    "meteoData['Date'] = pd.to_datetime(meteoData['time'], format='%Y%m%d%H%M')\n",
    "meteoData = meteoData.groupby(meteoData.Date.dt.date).agg(Temperature = (METEO_TEMP_PARAMETER, 'mean'))"
   ]
  },
  {
   "cell_type": "code",
   "execution_count": 5,
   "metadata": {},
   "outputs": [],
   "source": [
    "data = consumption.join(meteoData, \"Date\").reset_index(drop=False)"
   ]
  },
  {
   "cell_type": "code",
   "execution_count": 6,
   "metadata": {},
   "outputs": [],
   "source": [
    "# data.write.parquet(\"/ConsumptionModel/Data/final_train.parquet\")\n",
    "data.to_parquet(TRAIN_DATA_PATH, engine='pyarrow')"
   ]
  },
  {
   "cell_type": "code",
   "execution_count": null,
   "metadata": {},
   "outputs": [],
   "source": []
  }
 ],
 "metadata": {
  "kernelspec": {
   "display_name": "env",
   "language": "python",
   "name": "python3"
  },
  "language_info": {
   "codemirror_mode": {
    "name": "ipython",
    "version": 3
   },
   "file_extension": ".py",
   "mimetype": "text/x-python",
   "name": "python",
   "nbconvert_exporter": "python",
   "pygments_lexer": "ipython3",
   "version": "3.8.15"
  },
  "orig_nbformat": 4,
  "vscode": {
   "interpreter": {
    "hash": "a78666ffa58b7f1ff5178c9bd3a68cf56dd55e27c6383ab5473ef63feffae26e"
   }
  }
 },
 "nbformat": 4,
 "nbformat_minor": 2
}

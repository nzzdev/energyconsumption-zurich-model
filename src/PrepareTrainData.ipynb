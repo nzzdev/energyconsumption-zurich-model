{
 "cells": [
  {
   "cell_type": "markdown",
   "metadata": {},
   "source": [
    "# Prepare Train Data"
   ]
  },
  {
   "cell_type": "code",
   "execution_count": 1,
   "metadata": {},
   "outputs": [],
   "source": [
    "from datetime import datetime, timezone, date\n",
    "from datetime import timedelta\n",
    "from pathlib import Path\n",
    "import pandas as pd\n",
    "import pyarrow as pa"
   ]
  },
  {
   "cell_type": "code",
   "execution_count": 2,
   "metadata": {},
   "outputs": [],
   "source": [
    "CONSUMPTION_DATA_PATH = Path(\"../data/consumption\")\n",
    "CONSUMPTION_NE5_FILE = CONSUMPTION_DATA_PATH / \"NE5_Export.csv\"\n",
    "CONSUMPTION_NE7_FILE = CONSUMPTION_DATA_PATH / \"NE7_Export.csv\"\n",
    "TRAIN_DATA_PATH = Path('../data/consumption/final_train.parquet')\n",
    "DATA_PATH_2022 = Path('../data/consumption/2022.parquet')\n",
    "\n",
    "METEO_PATH = Path(\"../data/meteoswiss/reh_nzz.csv\")\n",
    "METEO_STATION = \"REH\"\n",
    "METEO_TEMP_PARAMETER = \"tre200h0\"\n",
    "\n",
    "TIME_FORMAT = \"dd.MM.yyyy\"\n",
    "WINDOW_DAYS = 1\n",
    "START_DATE = date(2010, 1, 1)\n",
    "END_DATE = date(2022, 1, 1)"
   ]
  },
  {
   "cell_type": "code",
   "execution_count": 3,
   "metadata": {},
   "outputs": [],
   "source": [
    "#ne5File = spark.read.csv(CONSUMPTION_NE5_FILE, header=True, inferSchema=True, sep=\";\")\n",
    "#ne7File = spark.read.csv(CONSUMPTION_NE7_FILE, header=True, inferSchema=True, sep=\";\")\n",
    "\n",
    "# consumption = (ne5File.alias(\"ne5\")\n",
    "#                       .join(ne7File.alias(\"ne7\"), \"Date\")\n",
    "#                       .withColumn(\"NE5Consumption\", f.expr(\"ne5.Value\"))\n",
    "#                       .withColumn(\"NE7Consumption\", f.expr(\"ne7.Value\"))\n",
    "#                       .withColumn(\"Date\", f.to_date(f.col(\"Date\"), TIME_FORMAT))\n",
    "#                       .filter((f.col(\"Date\") >= START_DATE) & (f.col(\"Date\") < END_DATE))\n",
    "#                       .select(\"Date\", \"NE5Consumption\", \"NE7Consumption\")\n",
    "#               )\n",
    "\n",
    "consumption = pd.read_csv('https://data.stadt-zuerich.ch/dataset/ewz_stromabgabe_netzebenen_stadt_zuerich/download/ewz_stromabgabe_netzebenen_stadt_zuerich.csv')\n",
    "consumption['Date'] = pd.to_datetime(consumption['Timestamp'], errors='raise', utc=True)\n",
    "#consumption = consumption[(consumption.Date >= START_DATE) & (consumption.Date < END_DATE)]\n",
    "consumption.rename(columns={'Value_NE5': 'NE5Consumption', 'Value_NE7': 'NE7Consumption'}, inplace=True)\n",
    "consumption = consumption.groupby(consumption.Date.dt.date).sum(numeric_only=True)"
   ]
  },
  {
   "cell_type": "code",
   "execution_count": 18,
   "metadata": {},
   "outputs": [
    {
     "data": {
      "text/html": [
       "<div>\n",
       "<style scoped>\n",
       "    .dataframe tbody tr th:only-of-type {\n",
       "        vertical-align: middle;\n",
       "    }\n",
       "\n",
       "    .dataframe tbody tr th {\n",
       "        vertical-align: top;\n",
       "    }\n",
       "\n",
       "    .dataframe thead th {\n",
       "        text-align: right;\n",
       "    }\n",
       "</style>\n",
       "<table border=\"1\" class=\"dataframe\">\n",
       "  <thead>\n",
       "    <tr style=\"text-align: right;\">\n",
       "      <th></th>\n",
       "      <th>Temperature</th>\n",
       "    </tr>\n",
       "    <tr>\n",
       "      <th>Date</th>\n",
       "      <th></th>\n",
       "    </tr>\n",
       "  </thead>\n",
       "  <tbody>\n",
       "    <tr>\n",
       "      <th>2022-10-28</th>\n",
       "      <td>12.520833</td>\n",
       "    </tr>\n",
       "    <tr>\n",
       "      <th>2022-10-29</th>\n",
       "      <td>13.154167</td>\n",
       "    </tr>\n",
       "    <tr>\n",
       "      <th>2022-10-30</th>\n",
       "      <td>11.292000</td>\n",
       "    </tr>\n",
       "    <tr>\n",
       "      <th>2022-10-31</th>\n",
       "      <td>10.362500</td>\n",
       "    </tr>\n",
       "    <tr>\n",
       "      <th>2022-11-01</th>\n",
       "      <td>9.200000</td>\n",
       "    </tr>\n",
       "  </tbody>\n",
       "</table>\n",
       "</div>"
      ],
      "text/plain": [
       "            Temperature\n",
       "Date                   \n",
       "2022-10-28    12.520833\n",
       "2022-10-29    13.154167\n",
       "2022-10-30    11.292000\n",
       "2022-10-31    10.362500\n",
       "2022-11-01     9.200000"
      ]
     },
     "execution_count": 18,
     "metadata": {},
     "output_type": "execute_result"
    }
   ],
   "source": [
    "\"\"\"\n",
    "meteoData = (spark.read.format(\"delta\")\n",
    "                         .load(\"/MeteoSwiss/Measurement/Delta\")\n",
    "                         .filter((f.col(\"Station\") == METEO_STATION) & (f.col(\"Parameter\") == METEO_TEMP_PARAMETER))\n",
    "                         .withColumn(\"Date\", f.to_date(f.col(\"TimestampUtc\")))\n",
    "                         .groupBy(\"Date\")\n",
    "                         .agg(f.avg(f.col(\"Value\")).alias(\"Temperature\"))\n",
    "            )\n",
    "\"\"\"\n",
    "\n",
    "meteoData = pd.read_csv(METEO_PATH, encoding='iso-8859-1', sep=';')\n",
    "meteoData = meteoData[meteoData.abbr == METEO_STATION]\n",
    "meteoData['Date'] = pd.to_datetime(meteoData['time'], format='%Y%m%d%H%M', utc=True)\n",
    "\n",
    "# Convert Timezone!\n",
    "meteoData['Date'] = meteoData['Date'].dt.tz_convert('Europe/Berlin')\n",
    "\n",
    "meteoData = meteoData.groupby(meteoData.Date.dt.date).agg(Temperature = (METEO_TEMP_PARAMETER, 'mean'))\n",
    "\n",
    "meteoData.tail()"
   ]
  },
  {
   "cell_type": "code",
   "execution_count": 6,
   "metadata": {},
   "outputs": [],
   "source": [
    "\n",
    "\n"
   ]
  },
  {
   "cell_type": "code",
   "execution_count": 19,
   "metadata": {},
   "outputs": [],
   "source": [
    "data = consumption.join(meteoData, \"Date\").reset_index(drop=False)"
   ]
  },
  {
   "cell_type": "code",
   "execution_count": 20,
   "metadata": {},
   "outputs": [],
   "source": [
    "# data.write.parquet(\"/ConsumptionModel/Data/final_train.parquet\")\n",
    "data[(data.Date >= START_DATE) & (data.Date < END_DATE)].to_parquet(TRAIN_DATA_PATH, engine='pyarrow')\n",
    "\n",
    "# 2022\n",
    "data[(data.Date >= date(2022, 1, 1)) & (data.Date < date(2022, 10, 31))].to_parquet(DATA_PATH_2022, engine='pyarrow')\n"
   ]
  },
  {
   "cell_type": "code",
   "execution_count": 10,
   "metadata": {},
   "outputs": [
    {
     "data": {
      "text/html": [
       "<div>\n",
       "<style scoped>\n",
       "    .dataframe tbody tr th:only-of-type {\n",
       "        vertical-align: middle;\n",
       "    }\n",
       "\n",
       "    .dataframe tbody tr th {\n",
       "        vertical-align: top;\n",
       "    }\n",
       "\n",
       "    .dataframe thead th {\n",
       "        text-align: right;\n",
       "    }\n",
       "</style>\n",
       "<table border=\"1\" class=\"dataframe\">\n",
       "  <thead>\n",
       "    <tr style=\"text-align: right;\">\n",
       "      <th></th>\n",
       "      <th>Date</th>\n",
       "      <th>NE5Consumption</th>\n",
       "      <th>NE7Consumption</th>\n",
       "      <th>Temperature</th>\n",
       "    </tr>\n",
       "  </thead>\n",
       "  <tbody>\n",
       "    <tr>\n",
       "      <th>1</th>\n",
       "      <td>2010-01-01</td>\n",
       "      <td>1.822814e+06</td>\n",
       "      <td>5.115723e+06</td>\n",
       "      <td>2.691667</td>\n",
       "    </tr>\n",
       "    <tr>\n",
       "      <th>2</th>\n",
       "      <td>2010-01-02</td>\n",
       "      <td>1.865160e+06</td>\n",
       "      <td>5.371369e+06</td>\n",
       "      <td>-2.000000</td>\n",
       "    </tr>\n",
       "    <tr>\n",
       "      <th>3</th>\n",
       "      <td>2010-01-03</td>\n",
       "      <td>1.789316e+06</td>\n",
       "      <td>5.203847e+06</td>\n",
       "      <td>-4.887500</td>\n",
       "    </tr>\n",
       "    <tr>\n",
       "      <th>4</th>\n",
       "      <td>2010-01-04</td>\n",
       "      <td>2.541962e+06</td>\n",
       "      <td>6.682725e+06</td>\n",
       "      <td>-6.745833</td>\n",
       "    </tr>\n",
       "    <tr>\n",
       "      <th>5</th>\n",
       "      <td>2010-01-05</td>\n",
       "      <td>2.617126e+06</td>\n",
       "      <td>6.872159e+06</td>\n",
       "      <td>-5.587500</td>\n",
       "    </tr>\n",
       "    <tr>\n",
       "      <th>...</th>\n",
       "      <td>...</td>\n",
       "      <td>...</td>\n",
       "      <td>...</td>\n",
       "      <td>...</td>\n",
       "    </tr>\n",
       "    <tr>\n",
       "      <th>4379</th>\n",
       "      <td>2021-12-27</td>\n",
       "      <td>2.462366e+06</td>\n",
       "      <td>4.957839e+06</td>\n",
       "      <td>5.387500</td>\n",
       "    </tr>\n",
       "    <tr>\n",
       "      <th>4380</th>\n",
       "      <td>2021-12-28</td>\n",
       "      <td>2.455435e+06</td>\n",
       "      <td>5.057680e+06</td>\n",
       "      <td>7.383333</td>\n",
       "    </tr>\n",
       "    <tr>\n",
       "      <th>4381</th>\n",
       "      <td>2021-12-29</td>\n",
       "      <td>2.441716e+06</td>\n",
       "      <td>5.077009e+06</td>\n",
       "      <td>8.375000</td>\n",
       "    </tr>\n",
       "    <tr>\n",
       "      <th>4382</th>\n",
       "      <td>2021-12-30</td>\n",
       "      <td>2.397142e+06</td>\n",
       "      <td>4.920351e+06</td>\n",
       "      <td>12.316667</td>\n",
       "    </tr>\n",
       "    <tr>\n",
       "      <th>4383</th>\n",
       "      <td>2021-12-31</td>\n",
       "      <td>2.297156e+06</td>\n",
       "      <td>4.786827e+06</td>\n",
       "      <td>8.558333</td>\n",
       "    </tr>\n",
       "  </tbody>\n",
       "</table>\n",
       "<p>4383 rows × 4 columns</p>\n",
       "</div>"
      ],
      "text/plain": [
       "            Date  NE5Consumption  NE7Consumption  Temperature\n",
       "1     2010-01-01    1.822814e+06    5.115723e+06     2.691667\n",
       "2     2010-01-02    1.865160e+06    5.371369e+06    -2.000000\n",
       "3     2010-01-03    1.789316e+06    5.203847e+06    -4.887500\n",
       "4     2010-01-04    2.541962e+06    6.682725e+06    -6.745833\n",
       "5     2010-01-05    2.617126e+06    6.872159e+06    -5.587500\n",
       "...          ...             ...             ...          ...\n",
       "4379  2021-12-27    2.462366e+06    4.957839e+06     5.387500\n",
       "4380  2021-12-28    2.455435e+06    5.057680e+06     7.383333\n",
       "4381  2021-12-29    2.441716e+06    5.077009e+06     8.375000\n",
       "4382  2021-12-30    2.397142e+06    4.920351e+06    12.316667\n",
       "4383  2021-12-31    2.297156e+06    4.786827e+06     8.558333\n",
       "\n",
       "[4383 rows x 4 columns]"
      ]
     },
     "execution_count": 10,
     "metadata": {},
     "output_type": "execute_result"
    }
   ],
   "source": [
    "data[(data.Date >= START_DATE) & (data.Date < END_DATE)]"
   ]
  },
  {
   "cell_type": "code",
   "execution_count": null,
   "metadata": {},
   "outputs": [],
   "source": []
  }
 ],
 "metadata": {
  "kernelspec": {
   "display_name": "env",
   "language": "python",
   "name": "python3"
  },
  "language_info": {
   "codemirror_mode": {
    "name": "ipython",
    "version": 3
   },
   "file_extension": ".py",
   "mimetype": "text/x-python",
   "name": "python",
   "nbconvert_exporter": "python",
   "pygments_lexer": "ipython3",
   "version": "3.8.15"
  },
  "orig_nbformat": 4,
  "vscode": {
   "interpreter": {
    "hash": "a78666ffa58b7f1ff5178c9bd3a68cf56dd55e27c6383ab5473ef63feffae26e"
   }
  }
 },
 "nbformat": 4,
 "nbformat_minor": 2
}

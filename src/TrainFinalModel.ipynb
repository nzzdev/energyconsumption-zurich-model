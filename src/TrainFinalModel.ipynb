{
 "cells": [
  {
   "cell_type": "markdown",
   "metadata": {},
   "source": [
    "# TrainFinalModel\n",
    "Sklearn installation fails on Mac Silicon. Always a mess. Did this:\n",
    "\n",
    "```\n",
    "brew install openblas\n",
    "export OPENBLAS=$(/opt/homebrew/bin/brew --prefix openblas)\n",
    "export CFLAGS=\"-falign-functions=8 ${CFLAGS}\"\n",
    "# ^ no need to add to .zshrc, just doing this once.\n",
    "pip install scikit-learn\n",
    "```\n",
    "[Source](https://github.com/scipy/scipy/issues/13409)\n",
    "\n",
    "Other ways...\n",
    "```\n",
    "pip install cython pybind11 pythran numpy\n",
    "OPENBLAS=$(brew --prefix openblas) CFLAGS=\"-falign-functions=8 ${CFLAGS}\" pip install --no-use-pep517 scipy==1.3.2\n",
    "```\n",
    "or\n",
    "```\n",
    "pip3 install -U --no-use-pep517 scikit-learn\n",
    "```\n"
   ]
  },
  {
   "cell_type": "code",
   "execution_count": 8,
   "metadata": {},
   "outputs": [],
   "source": [
    "import math\n",
    "from datetime import datetime\n",
    "from datetime import timedelta\n",
    "import pandas as pd\n",
    "from pathlib import Path\n",
    "from prophet import Prophet\n",
    "from prophet.plot import add_changepoints_to_plot\n",
    "from prophet.utilities import regressor_coefficients\n",
    "from sklearn.metrics import mean_squared_error\n",
    "from sklearn.metrics import mean_absolute_percentage_error\n",
    "from matplotlib import pyplot as plt\n",
    "from prophet.serialize import model_to_json, model_from_json\n",
    "import math"
   ]
  },
  {
   "cell_type": "code",
   "execution_count": 3,
   "metadata": {},
   "outputs": [],
   "source": [
    "# https://en.wikipedia.org/wiki/COVID-19_pandemic_in_Switzerland\n",
    "COVID_START = datetime(2020, 3, 1).date()\n",
    "# https://www.admin.ch/gov/en/start/documentation/media-releases.msg-id-84127.html\n",
    "# date taken as the second easing of restrictions during 2021\n",
    "COVID_END = datetime(2021, 6, 1).date()\n",
    "\n",
    "MODEL_PATH = Path(\"../data/model/\")\n",
    "TRAIN_DATA_PATH = Path('../data/consumption/final_train.parquet')\n",
    "\n",
    "MODEL_NAME = \"totalconsumption_rolling7day.json\"\n",
    "CONSUMPTION_EXPR = \"NE5Consumption + NE7Consumption\" # i.e. \"NE5Consumption + NE7Consumption\", \"NE5Consumption\", \"NE7Consumption\"\n",
    "ROLLING_WINDOW = 7\n",
    "CONFIDENCE_INTERVAL = 0.95\n",
    "USE_WEEK_SEASONALITY = False\n",
    "USE_HOLIDAYS = False"
   ]
  },
  {
   "cell_type": "code",
   "execution_count": null,
   "metadata": {},
   "outputs": [],
   "source": [
    "\n",
    "def loadParquetToPandas(path):\n",
    "    \"\"\"\n",
    "    return (spark.read.format(\"parquet\").load(path)\n",
    "                                      .withColumn(\"y\", f.expr(CONSUMPTION_EXPR))\n",
    "                                      .withColumn(\"CosYearTemp\", f.expr(\"Temperature * cos(dayofyear(Date) * 2 * pi() / 365)\"))\n",
    "                                      .withColumn(\"SinYearTemp\", f.expr(\"Temperature * sin(dayofyear(Date) * 2 * pi() / 365)\"))\n",
    "                                      .selectExpr(\"Date as ds\", \"y\", \"CosYearTemp\", \"SinYearTemp\")\n",
    "                                      .orderBy(\"ds\")\n",
    "         ).toPandas().rolling(ROLLING_WINDOW, on=\"ds\").mean().dropna()[:-ROLLING_WINDOW]\n",
    "    \"\"\"\n",
    "    df = pd.read_parquet(path, engine='pyarrow')\n",
    "    df['Date'] = pd.to_datetime(df['Date'])\n",
    "    df['y'] = df['NE5Consumption'] + df['NE7Consumption']\n",
    "    df['CosYearTemp'] = df['Temperature'] * math.cos(df['Date'].dt.dayofyear * 2 * math.pi / 365)\n",
    "    df['SinYearTemp'] = df['Temperature'] * math.sin(df['Date'].dt.dayofyear * 2 * math.pi / 365)\n",
    "    df['ds'] = df['Date']\n",
    "    df = df.sort_values('ds')\n",
    "    return df.rolling(ROLLING_WINDOW, on='ds').mean().dropna()[:-ROLLING_WINDOW]\n",
    "\n",
    "train = loadParquetToPandas(TRAIN_DATA_PATH)"
   ]
  },
  {
   "cell_type": "code",
   "execution_count": 7,
   "metadata": {},
   "outputs": [
    {
     "data": {
      "text/plain": [
       "3.141592653589793"
      ]
     },
     "execution_count": 7,
     "metadata": {},
     "output_type": "execute_result"
    }
   ],
   "source": [
    "# add covid as a one-off holiday\n",
    "covid = pd.DataFrame([\n",
    "    {'holiday': 'covid', 'ds': COVID_START, 'lower_window': 0, 'ds_upper': COVID_END}\n",
    "])\n",
    "\n",
    "covid['upper_window'] = (covid['ds_upper'] - covid['ds']).dt.days"
   ]
  },
  {
   "cell_type": "code",
   "execution_count": null,
   "metadata": {},
   "outputs": [],
   "source": [
    "m = Prophet(holidays = covid, weekly_seasonality = USE_WEEK_SEASONALITY, changepoint_prior_scale = 0.005, changepoint_range=1, interval_width=CONFIDENCE_INTERVAL, uncertainty_samples = 10000)\n",
    "\n",
    "if USE_HOLIDAYS:\n",
    "    m.add_country_holidays(country_name='CH')\n",
    "  \n",
    "m.add_regressor(\"CosYearTemp\", prior_scale = 0.05, standardize = True, mode = \"additive\")\n",
    "m.add_regressor(\"SinYearTemp\", prior_scale = 0.05, standardize = True, mode = \"additive\")\n",
    "m.fit(train)"
   ]
  },
  {
   "cell_type": "code",
   "execution_count": null,
   "metadata": {},
   "outputs": [],
   "source": [
    "forecastTrain = m.predict(train)"
   ]
  },
  {
   "cell_type": "code",
   "execution_count": null,
   "metadata": {},
   "outputs": [],
   "source": [
    "fig = m.plot_components(forecastTrain)"
   ]
  },
  {
   "cell_type": "code",
   "execution_count": null,
   "metadata": {},
   "outputs": [],
   "source": [
    "fig = m.plot(forecastTrain)\n",
    "a = add_changepoints_to_plot(fig.gca(), m, forecastTrain)"
   ]
  },
  {
   "cell_type": "code",
   "execution_count": null,
   "metadata": {},
   "outputs": [],
   "source": [
    "mse = mean_squared_error(train[\"y\"].to_numpy(), forecastTrain[\"yhat\"].to_numpy())\n",
    "mse"
   ]
  },
  {
   "cell_type": "code",
   "execution_count": null,
   "metadata": {},
   "outputs": [],
   "source": [
    "rmse = math.sqrt(mse)\n",
    "rmse"
   ]
  },
  {
   "cell_type": "code",
   "execution_count": null,
   "metadata": {},
   "outputs": [],
   "source": [
    "mean_absolute_percentage_error(train[\"y\"].to_numpy(), forecastTrain[\"yhat\"].to_numpy())"
   ]
  },
  {
   "cell_type": "code",
   "execution_count": null,
   "metadata": {},
   "outputs": [],
   "source": [
    "regressor_coefficients(m)"
   ]
  },
  {
   "cell_type": "code",
   "execution_count": null,
   "metadata": {},
   "outputs": [],
   "source": [
    "plotData = pd.DataFrame(\n",
    "  {\n",
    "    \"Actual\": train[\"y\"].array,\n",
    "    \"PredictedMean\": forecastTrain[\"yhat\"].array,\n",
    "    \"PredictedHigh\": forecastTrain[\"yhat_upper\"].array,\n",
    "    \"PredictedLow\": forecastTrain[\"yhat_lower\"].array\n",
    "  },\n",
    "  index=train[\"ds\"]\n",
    ")\n",
    "\n",
    "plotData.index = pd.to_datetime(plotData.index)\n",
    "plotData = plotData.sort_index()"
   ]
  },
  {
   "cell_type": "code",
   "execution_count": null,
   "metadata": {},
   "outputs": [],
   "source": [
    "def plot(data):\n",
    "  fig, ax = plt.subplots()\n",
    "  fig.set_size_inches(12, 8)\n",
    "  fig.patch.set_facecolor('white')\n",
    "  ax.plot(data.index, data[\"Actual\"])\n",
    "  ax.fill_between(data.index, data[\"PredictedHigh\"], data[\"PredictedLow\"], color='orange', alpha=.2)"
   ]
  },
  {
   "cell_type": "code",
   "execution_count": null,
   "metadata": {},
   "outputs": [],
   "source": [
    "plot(plotData)"
   ]
  },
  {
   "cell_type": "code",
   "execution_count": null,
   "metadata": {},
   "outputs": [],
   "source": [
    "plot(plotData[(plotData.index >= datetime(2019, 1, 1)) & (plotData.index < datetime(2019, 3, 1))])"
   ]
  },
  {
   "cell_type": "code",
   "execution_count": null,
   "metadata": {},
   "outputs": [],
   "source": [
    "with open(MODEL_PATH + MODEL_NAME, 'w') as fout:\n",
    "    fout.write(model_to_json(m))"
   ]
  }
 ],
 "metadata": {
  "kernelspec": {
   "display_name": "Python 3.9.13 ('env': venv)",
   "language": "python",
   "name": "python3"
  },
  "language_info": {
   "codemirror_mode": {
    "name": "ipython",
    "version": 3
   },
   "file_extension": ".py",
   "mimetype": "text/x-python",
   "name": "python",
   "nbconvert_exporter": "python",
   "pygments_lexer": "ipython3",
   "version": "3.9.5"
  },
  "orig_nbformat": 4,
  "vscode": {
   "interpreter": {
    "hash": "68c884652952f7983733a5c5d33718639627b23ce073ad2f3e653c062f4e90d0"
   }
  }
 },
 "nbformat": 4,
 "nbformat_minor": 2
}

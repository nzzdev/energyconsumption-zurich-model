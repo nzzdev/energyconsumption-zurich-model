{
 "cells": [
  {
   "cell_type": "markdown",
   "metadata": {},
   "source": [
    "# TrainFinalModel\n",
    "Sklearn installation fails on Mac Silicon. Always a mess. Did this:\n",
    "\n",
    "```\n",
    "brew install openblas\n",
    "export OPENBLAS=$(/opt/homebrew/bin/brew --prefix openblas)\n",
    "export CFLAGS=\"-falign-functions=8 ${CFLAGS}\"\n",
    "# ^ no need to add to .zshrc, just doing this once.\n",
    "pip install scikit-learn\n",
    "```\n",
    "[Source](https://github.com/scipy/scipy/issues/13409)\n",
    "\n",
    "Other ways...\n",
    "```\n",
    "pip install cython pybind11 pythran numpy\n",
    "OPENBLAS=$(brew --prefix openblas) CFLAGS=\"-falign-functions=8 ${CFLAGS}\" pip install --no-use-pep517 scipy==1.3.2\n",
    "```\n",
    "or\n",
    "```\n",
    "pip3 install -U --no-use-pep517 scikit-learn\n",
    "```\n"
   ]
  },
  {
   "cell_type": "code",
   "execution_count": 3,
   "metadata": {},
   "outputs": [],
   "source": [
    "import math\n",
    "from datetime import datetime\n",
    "from datetime import timedelta\n",
    "import pandas as pd\n",
    "from prophet import Prophet\n",
    "from prophet.plot import add_changepoints_to_plot\n",
    "\n",
    "from sklearn.metrics import mean_squared_error\n",
    "from sklearn.metrics import mean_absolute_percentage_error\n",
    "from matplotlib import pyplot as plt\n",
    "from prophet.serialize import model_to_json, model_from_json"
   ]
  },
  {
   "cell_type": "code",
   "execution_count": null,
   "metadata": {},
   "outputs": [],
   "source": []
  }
 ],
 "metadata": {
  "kernelspec": {
   "display_name": "Python 3.9.13 ('env': venv)",
   "language": "python",
   "name": "python3"
  },
  "language_info": {
   "codemirror_mode": {
    "name": "ipython",
    "version": 3
   },
   "file_extension": ".py",
   "mimetype": "text/x-python",
   "name": "python",
   "nbconvert_exporter": "python",
   "pygments_lexer": "ipython3",
   "version": "3.9.5"
  },
  "orig_nbformat": 4,
  "vscode": {
   "interpreter": {
    "hash": "68c884652952f7983733a5c5d33718639627b23ce073ad2f3e653c062f4e90d0"
   }
  }
 },
 "nbformat": 4,
 "nbformat_minor": 2
}
